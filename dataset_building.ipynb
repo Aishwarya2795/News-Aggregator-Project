{
 "cells": [
  {
   "cell_type": "code",
   "execution_count": 2,
   "metadata": {
    "collapsed": true
   },
   "outputs": [],
   "source": [
    "import pandas as pd\n",
    "import requests\n",
    "import time\n",
    "import aylien_news_api\n",
    "from aylien_news_api.rest import ApiException"
   ]
  },
  {
   "cell_type": "code",
   "execution_count": 3,
   "metadata": {
    "collapsed": false
   },
   "outputs": [],
   "source": [
    "df = pd.read_csv(\"uci-news-aggregator.csv\")\n",
    "fin_df1 = pd.read_csv(\"pulse-news-dump.csv\", header = 0, dtype = {\"TITLE\":object,\"URL\":object}, usecols = [0,1])"
   ]
  },
  {
   "cell_type": "code",
   "execution_count": 4,
   "metadata": {
    "collapsed": false
   },
   "outputs": [],
   "source": [
    "fin_df2 = fin_df1.sample(frac = 0.26)"
   ]
  },
  {
   "cell_type": "code",
   "execution_count": 5,
   "metadata": {
    "collapsed": false
   },
   "outputs": [],
   "source": [
    "cat = []\n",
    "for i in range(len(fin_df2)):\n",
    "    cat.append(\"b\")"
   ]
  },
  {
   "cell_type": "code",
   "execution_count": 6,
   "metadata": {
    "collapsed": false
   },
   "outputs": [],
   "source": [
    "fin_df2[\"CATEGORY\"] = cat "
   ]
  },
  {
   "cell_type": "code",
   "execution_count": 7,
   "metadata": {
    "collapsed": false
   },
   "outputs": [],
   "source": [
    "res = df.append(fin_df2)"
   ]
  },
  {
   "cell_type": "code",
   "execution_count": 8,
   "metadata": {
    "collapsed": false
   },
   "outputs": [],
   "source": [
    "res.dropna(subset = [\"TITLE\",\"URL\"], inplace = True)"
   ]
  },
  {
   "cell_type": "code",
   "execution_count": 12,
   "metadata": {
    "collapsed": false
   },
   "outputs": [],
   "source": [
    "aylien_news_api.configuration.api_key['X-AYLIEN-NewsAPI-Application-ID'] = '98f3fe2d'\n",
    "aylien_news_api.configuration.api_key['X-AYLIEN-NewsAPI-Application-Key'] = '8250b008cf5d2df152adc1a886b52924'\n",
    "api_instance = aylien_news_api.DefaultApi()"
   ]
  },
  {
   "cell_type": "code",
   "execution_count": 13,
   "metadata": {
    "collapsed": true
   },
   "outputs": [],
   "source": [
    "def fetch_new_stories(params={}):\n",
    "    fetched_stories = []\n",
    "    stories = None\n",
    "    while stories is None or len(stories) > 0:\n",
    "        try:\n",
    "            response = api_instance.list_stories(**params)\n",
    "        except ApiException as e:\n",
    "            if (e.status == 429):\n",
    "                print('Usage limit are exceeded. Waiting for 60 seconds...')\n",
    "                time.sleep(60)\n",
    "                continue\n",
    "\n",
    "        stories = response.stories\n",
    "        params['cursor'] = response.next_page_cursor\n",
    "        fetched_stories += stories\n",
    "    return fetched_stories"
   ]
  },
  {
   "cell_type": "code",
   "execution_count": 14,
   "metadata": {
    "collapsed": false
   },
   "outputs": [],
   "source": [
    "dic1 = {\"title\":\"ipl\",\"language\":[\"en\"],\"categories_taxonomy\":\"iab-qag\",\"categories_id\":[\"IAB17\"],\"source_locations_country\": [\"IN\"],'sort_by': 'social_shares_count.facebook','published_at_start': 'NOW-30DAYS','published_at_end': 'NOW',\"per_page\":100}\n",
    "indian_sports_stories = fetch_new_stories(dic1)"
   ]
  },
  {
   "cell_type": "code",
   "execution_count": 33,
   "metadata": {
    "collapsed": true
   },
   "outputs": [],
   "source": [
    "headline = []\n",
    "url = []\n",
    "category = []\n",
    "for story in indian_sports_stories:\n",
    "    headline.append(story.title)\n",
    "    url.append(story.links.permalink)\n",
    "    category.append(\"e\")"
   ]
  },
  {
   "cell_type": "code",
   "execution_count": 34,
   "metadata": {
    "collapsed": false
   },
   "outputs": [],
   "source": [
    "sports_df = pd.DataFrame(data = {\"TITLE\":headline,\"URL\":url,\"CATEGORY\":category})"
   ]
  },
  {
   "cell_type": "code",
   "execution_count": 35,
   "metadata": {
    "collapsed": false
   },
   "outputs": [],
   "source": [
    "res1 = res.append(sports_df)"
   ]
  },
  {
   "cell_type": "code",
   "execution_count": 38,
   "metadata": {
    "collapsed": false
   },
   "outputs": [],
   "source": [
    "res1.to_csv(\"/home/harish/final_project/Final_dataset.csv\")"
   ]
  },
  {
   "cell_type": "markdown",
   "metadata": {},
   "source": []
  }
 ],
 "metadata": {
  "anaconda-cloud": {},
  "kernelspec": {
   "display_name": "Python [conda env:ex]",
   "language": "python",
   "name": "conda-env-ex-py"
  },
  "language_info": {
   "codemirror_mode": {
    "name": "ipython",
    "version": 3
   },
   "file_extension": ".py",
   "mimetype": "text/x-python",
   "name": "python",
   "nbconvert_exporter": "python",
   "pygments_lexer": "ipython3",
   "version": "3.4.5"
  }
 },
 "nbformat": 4,
 "nbformat_minor": 1
}
